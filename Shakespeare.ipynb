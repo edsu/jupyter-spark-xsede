{
 "cells": [
  {
   "cell_type": "markdown",
   "metadata": {},
   "source": [
    "# Jupyter + Spark on XSEDE"
   ]
  },
  {
   "cell_type": "markdown",
   "metadata": {},
   "source": [
    "Here's a little notebook that demonstrates how to use Spark from a Python Jupyter notebook on the [XSEDE](https://xsede.org) compute platform. The imports are really all you need to know to allow Jupyter to see pyspark, but what follows is a short example of using Spark.\n",
    "\n",
    "## Setup\n",
    "\n",
    "First ssh to the Pittsburgh Supercomputer Center XSEDE and get this notebook:\n",
    "\n",
    "    ssh username@bridges.psc.xsede.org\n",
    "    git clone https://github.com/edsu/jupyter-spark-xsede\n",
    "    \n",
    "Then head over to XSEDE's [On Demand Interface](https://ondemand.bridges.psc.edu/) and start a Juypyter session, under *Interactive Session* in the menu bar. Then navigate to where you cloned this notebook.\n",
    "\n",
    "## Start Spark\n",
    "\n",
    "Before we can interact with Spark you need to adjust the path a bit so Jupyter can find pyspark:"
   ]
  },
  {
   "cell_type": "code",
   "execution_count": 1,
   "metadata": {},
   "outputs": [],
   "source": [
    "import sys\n",
    "\n",
    "sys.path.append(\"/opt/packages/spark/latest/python/lib/py4j-0.10.4-src.zip\")\n",
    "sys.path.append(\"/opt/packages/spark/latest/python/\")\n",
    "sys.path.append(\"/opt/packages/spark/latest/python/pyspark\")"
   ]
  },
  {
   "cell_type": "markdown",
   "metadata": {},
   "source": [
    "Now you need to create the Spark context:"
   ]
  },
  {
   "cell_type": "code",
   "execution_count": 2,
   "metadata": {},
   "outputs": [],
   "source": [
    "from pyspark import SparkContext\n",
    "\n",
    "sc = SparkContext()"
   ]
  },
  {
   "cell_type": "markdown",
   "metadata": {},
   "source": [
    "## Word Counts in Shakespeare\n",
    "\n",
    "Load all of Skakespeare's works that are conveniently stored in a single text file:"
   ]
  },
  {
   "cell_type": "code",
   "execution_count": 3,
   "metadata": {},
   "outputs": [],
   "source": [
    "text = sc.textFile(\"Complete_Shakespeare.txt\")"
   ]
  },
  {
   "cell_type": "markdown",
   "metadata": {},
   "source": [
    "Get all the words:"
   ]
  },
  {
   "cell_type": "code",
   "execution_count": 4,
   "metadata": {},
   "outputs": [
    {
     "data": {
      "text/plain": [
       "['the',\n",
       " 'project',\n",
       " 'gutenberg',\n",
       " 'ebook',\n",
       " 'of',\n",
       " 'the',\n",
       " 'complete',\n",
       " 'works',\n",
       " 'of',\n",
       " 'william']"
      ]
     },
     "execution_count": 4,
     "metadata": {},
     "output_type": "execute_result"
    }
   ],
   "source": [
    "words = text.flatMap(lambda line: line.lower().split())\n",
    "words.take(10)"
   ]
  },
  {
   "cell_type": "code",
   "execution_count": 5,
   "metadata": {},
   "outputs": [
    {
     "name": "stdout",
     "output_type": "stream",
     "text": [
      "59722 unique words\n"
     ]
    }
   ],
   "source": [
    "print(\"{} unique words\".format(words.distinct().count()))"
   ]
  },
  {
   "cell_type": "markdown",
   "metadata": {},
   "source": [
    "Generate the word counts:"
   ]
  },
  {
   "cell_type": "code",
   "execution_count": 6,
   "metadata": {},
   "outputs": [
    {
     "data": {
      "text/plain": [
       "[('the', 27730),\n",
       " ('project', 320),\n",
       " ('gutenberg', 250),\n",
       " ('ebook', 13),\n",
       " ('of', 18126),\n",
       " ('complete', 243),\n",
       " ('works', 268),\n",
       " ('william', 311),\n",
       " ('shakespeare,', 2),\n",
       " ('by', 4310)]"
      ]
     },
     "execution_count": 6,
     "metadata": {},
     "output_type": "execute_result"
    }
   ],
   "source": [
    "word_counts = words.map(lambda w: (w, 1)).reduceByKey(lambda a, b: a + b)\n",
    "word_counts.take(10)"
   ]
  },
  {
   "cell_type": "markdown",
   "metadata": {},
   "source": [
    "Sort the word counts in descending order:"
   ]
  },
  {
   "cell_type": "code",
   "execution_count": 7,
   "metadata": {},
   "outputs": [],
   "source": [
    "word_counts = word_counts.sortBy(lambda x: x[1], ascending=False)"
   ]
  },
  {
   "cell_type": "markdown",
   "metadata": {},
   "source": [
    "Print the top 5"
   ]
  },
  {
   "cell_type": "code",
   "execution_count": 8,
   "metadata": {},
   "outputs": [
    {
     "name": "stdout",
     "output_type": "stream",
     "text": [
      "[('the', 27730), ('and', 26099), ('i', 19540), ('to', 18762), ('of', 18126)]\n"
     ]
    }
   ],
   "source": [
    "print(word_counts.take(5))"
   ]
  },
  {
   "cell_type": "markdown",
   "metadata": {},
   "source": [
    "## Stopwords\n",
    "\n",
    "Let's try again by removing stopwords:"
   ]
  },
  {
   "cell_type": "code",
   "execution_count": 9,
   "metadata": {},
   "outputs": [
    {
     "data": {
      "text/plain": [
       "['a', \"a's\", 'able', 'about', 'above']"
      ]
     },
     "execution_count": 9,
     "metadata": {},
     "output_type": "execute_result"
    }
   ],
   "source": [
    "stopwords = open('stopwords_en.txt').read().split()\n",
    "stopwords[0:5]"
   ]
  },
  {
   "cell_type": "code",
   "execution_count": 10,
   "metadata": {},
   "outputs": [
    {
     "name": "stdout",
     "output_type": "stream",
     "text": [
      "59265 unique words\n"
     ]
    }
   ],
   "source": [
    "words2 = words.filter(lambda w: w not in stopwords)\n",
    "print(\"{} unique words\".format(words2.distinct().count()))"
   ]
  },
  {
   "cell_type": "code",
   "execution_count": 11,
   "metadata": {},
   "outputs": [
    {
     "name": "stdout",
     "output_type": "stream",
     "text": [
      "[('thou', 5138), ('thy', 4028), ('good', 2560), ('enter', 2013), ('hath', 1902), ('thee', 1794), ('king', 1698), ('make', 1599), ('you,', 1479), (\"'tis\", 1367), ('give', 1288), ('love', 1279), ('sir,', 1235), ('me,', 1219), (\"th'\", 1146), ('man', 1033), ('o,', 1008), ('lord,', 977), ('time', 936), ('doth', 912)]\n"
     ]
    }
   ],
   "source": [
    "word_counts2 = words2.map(lambda w: (w, 1)).reduceByKey(lambda a, b: a + b)\n",
    "word_counts2 = word_counts2.sortBy(lambda x: x[1], ascending=False)\n",
    "print(word_counts2.take(20))"
   ]
  },
  {
   "cell_type": "code",
   "execution_count": null,
   "metadata": {},
   "outputs": [],
   "source": []
  }
 ],
 "metadata": {
  "kernelspec": {
   "display_name": "Python 2",
   "language": "python",
   "name": "python2"
  },
  "language_info": {
   "codemirror_mode": {
    "name": "ipython",
    "version": 3
   },
   "file_extension": ".py",
   "mimetype": "text/x-python",
   "name": "python",
   "nbconvert_exporter": "python",
   "pygments_lexer": "ipython3",
   "version": "3.6.4"
  }
 },
 "nbformat": 4,
 "nbformat_minor": 2
}
